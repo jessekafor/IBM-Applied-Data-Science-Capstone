{
 "cells": [
  {
   "cell_type": "markdown",
   "metadata": {},
   "source": [
    "### Introduction"
   ]
  },
  {
   "cell_type": "markdown",
   "metadata": {},
   "source": [
    "The objective is to look at the different venues between University of Chicago and Georgia Institute of Technology (Georgia Tech) since these are universities people as myself would want to attend for a degree. Both locations have good reputations as public institutions so the problem to solve was to find out what venues are available in the areas that does not require long travel. Many people who decide to stay near a campus ride a bike or use there four legs as a mode of transportation and need close by locations for daily activities and community.\n"
   ]
  },
  {
   "cell_type": "markdown",
   "metadata": {},
   "source": [
    "To get started, before even running any code first library modules had to be imported."
   ]
  },
  {
   "cell_type": "code",
   "execution_count": null,
   "metadata": {},
   "outputs": [
    {
     "name": "stdout",
     "output_type": "stream",
     "text": [
      "Collecting package metadata (current_repodata.json): done\n",
      "Solving environment: done\n",
      "\n",
      "\n",
      "==> WARNING: A newer version of conda exists. <==\n",
      "  current version: 4.8.3\n",
      "  latest version: 4.8.4\n",
      "\n",
      "Please update conda by running\n",
      "\n",
      "    $ conda update -n base -c defaults conda\n",
      "\n",
      "\n",
      "\n",
      "# All requested packages already installed.\n",
      "\n",
      "Collecting package metadata (current_repodata.json): done\n",
      "Solving environment: | "
     ]
    }
   ],
   "source": [
    "import pandas as pd\n",
    "import numpy as np\n",
    "import requests\n",
    "\n",
    "!conda install -c conda-forge geopy --yes\n",
    "import geopy as geopy\n",
    "from geopy.geocoders import Nominatim \n",
    "\n",
    "# Matplotlib and associated plotting modules\n",
    "import matplotlib.cm as cm\n",
    "import matplotlib.colors as colors\n",
    "\n",
    "!conda install -c conda-forge folium=0.5.0 --yes\n",
    "import folium # map rendering library\n",
    "\n",
    "print(\"Libraries Imported\")"
   ]
  },
  {
   "cell_type": "markdown",
   "metadata": {},
   "source": [
    "## Data Collection"
   ]
  },
  {
   "cell_type": "markdown",
   "metadata": {},
   "source": [
    "The data for the venues was retrieved using the Foursquare Places API. The Places API offers real-time access to Foursquare's global database of rich venue data and user content to power your location-based experiences."
   ]
  },
  {
   "cell_type": "markdown",
   "metadata": {},
   "source": [
    "### Foursquare Credentials"
   ]
  },
  {
   "cell_type": "code",
   "execution_count": null,
   "metadata": {},
   "outputs": [],
   "source": [
    "CLIENT_ID = 'MWBMLLHDCHCNOFVSO405PNGLHJP0EW0MAD1MEEO0SKMOFSJX'\n",
    "CLIENT_SECRET = '3J3OZ5F4I5WW5OTRZOOWNMREHZEOANOANIOUC3VG2AN5DIM3'\n",
    "VERSION = '20200825'\n",
    "\n",
    "print('Credentials:')\n",
    "print('CLIENT_ID: ' + CLIENT_ID)\n",
    "print('CLIENT_SECRET:' + CLIENT_SECRET)"
   ]
  },
  {
   "cell_type": "markdown",
   "metadata": {},
   "source": [
    "### Coordinates"
   ]
  },
  {
   "cell_type": "markdown",
   "metadata": {},
   "source": [
    "The addresses from both institutions were retrieved from Google Knowledge Graph through search. The Geocoder module was used to get the coordinates for both institutions."
   ]
  },
  {
   "cell_type": "markdown",
   "metadata": {},
   "source": [
    "Get nearby venues by Chicago - University of Chicago\n",
    "Address: 5801 S Ellis Ave, Chicago, IL 60637"
   ]
  },
  {
   "cell_type": "code",
   "execution_count": null,
   "metadata": {},
   "outputs": [],
   "source": [
    "address = \"5801 S Ellis Ave, Chicago, IL 60637\"\n",
    "\n",
    "geolocator = Nominatim(user_agent=\"ca_explorer\")\n",
    "location = geolocator.geocode(address)\n",
    "chi_latitude = location.latitude\n",
    "chi_longitude = location.longitude\n",
    "print('The geographical coordinate of University of Chicago are {}, {}.'.format(chi_latitude, chi_longitude))"
   ]
  },
  {
   "cell_type": "code",
   "execution_count": null,
   "metadata": {},
   "outputs": [],
   "source": [
    "#Map of Chicago using latitude and longitude values\n",
    "map_chicago = folium.Map(location=[chi_latitude, chi_longitude], zoom_start=10)\n",
    "map_chicago"
   ]
  },
  {
   "cell_type": "markdown",
   "metadata": {},
   "source": [
    "Get nearby venues by Atlanta - Georgia Institute of Technology\n",
    "Address: North Ave NW, Atlanta, GA 30332"
   ]
  },
  {
   "cell_type": "code",
   "execution_count": null,
   "metadata": {},
   "outputs": [],
   "source": [
    "address = \"North Ave NW, Atlanta, GA 30332\"\n",
    "\n",
    "geolocator = Nominatim(user_agent=\"ca_explorer\")\n",
    "location = geolocator.geocode(address)\n",
    "atl_latitude = location.latitude\n",
    "atl_longitude = location.longitude\n",
    "print('The geographical coordinates of Georgia Tech are {}, {}.'.format(atl_latitude, atl_longitude))"
   ]
  },
  {
   "cell_type": "code",
   "execution_count": null,
   "metadata": {},
   "outputs": [],
   "source": [
    "#Map of Atlanta using latitude and longitude values\n",
    "map_atlanta = folium.Map(location=[atl_latitude, atl_longitude], zoom_start=10)\n",
    "map_atlanta"
   ]
  },
  {
   "cell_type": "markdown",
   "metadata": {},
   "source": [
    "## Explore Venues "
   ]
  },
  {
   "cell_type": "markdown",
   "metadata": {},
   "source": [
    " At first I reduced the radius and then increased it to 500 in order to generate enough venues nearby the universities. The campus size of University of Chicago is 217 acres and as for Georgia Institute of Technology (Georgia Tech), its almost twice as large with over 400 acres according to Google's Knowledge Graph. I completely forgot how large universities can be so this made sense to extend the radius to an appropriate size (500). Even within a 500 radius of the area there was only 13 venue listings nearby the University of Chicago and 17 nearby Georgia Institute of Technology (Georgia Tech). I did set the limit of venues to 100 although the cap was not necessary after seeing that not many locations were not available from either institution."
   ]
  },
  {
   "cell_type": "code",
   "execution_count": null,
   "metadata": {},
   "outputs": [],
   "source": [
    "#Limit 100\n",
    "#Radius 500 miles\n",
    "\n",
    "LIMIT = 100 \n",
    "radius = 500\n",
    "url = 'https://api.foursquare.com/v2/venues/explore?&client_id={}&client_secret={}&v={}&ll={},{}&radius={}&limit={}'.format(\n",
    "    CLIENT_ID, \n",
    "    CLIENT_SECRET, \n",
    "    VERSION, \n",
    "    chi_latitude, \n",
    "    chi_longitude, \n",
    "    radius, \n",
    "    LIMIT)\n",
    "\n",
    "# get the result to a json file\n",
    "chi_results = requests.get(url).json()\n",
    "chi_results"
   ]
  },
  {
   "cell_type": "markdown",
   "metadata": {},
   "source": [
    "### Explore Venues nearby Georgia Institute of Technology"
   ]
  },
  {
   "cell_type": "code",
   "execution_count": null,
   "metadata": {},
   "outputs": [],
   "source": [
    "#Limit 100\n",
    "#Radius 500 miles\n",
    "\n",
    "LIMIT = 100 \n",
    "radius = 500\n",
    "url = 'https://api.foursquare.com/v2/venues/explore?&client_id={}&client_secret={}&v={}&ll={},{}&radius={}&limit={}'.format(\n",
    "    CLIENT_ID, \n",
    "    CLIENT_SECRET, \n",
    "    VERSION, \n",
    "    atl_latitude, \n",
    "    atl_longitude, \n",
    "    radius, \n",
    "    LIMIT)\n",
    "\n",
    "# get the result to a json file\n",
    "atl_results = requests.get(url).json()\n",
    "atl_results"
   ]
  },
  {
   "cell_type": "markdown",
   "metadata": {},
   "source": [
    "## Data Preparation"
   ]
  },
  {
   "cell_type": "markdown",
   "metadata": {},
   "source": [
    "### Venues Nearby "
   ]
  },
  {
   "cell_type": "markdown",
   "metadata": {},
   "source": [
    "The venues were grouped by categories in Foursquare to know what types are listed and available around each university. Then the venues were order by which are closer to the universities. After previewing the columns available in the JSON response I seen that we did not need all the columns. The name, categories, and coordinates should be efficient data to continue on for further data analysis."
   ]
  },
  {
   "cell_type": "markdown",
   "metadata": {},
   "source": [
    "We stored the venue results for University of Chicago and Georgia Institute of Technology (Georgia Tech) in a pandas dataframe."
   ]
  },
  {
   "cell_type": "markdown",
   "metadata": {},
   "source": [
    "Since the venues were not many I did not have to run any code to see unique or common categories and venues. There were not many similar category types. "
   ]
  },
  {
   "cell_type": "code",
   "execution_count": null,
   "metadata": {},
   "outputs": [],
   "source": [
    "chi_venues = chi_results['response']['groups'][0]['items']\n",
    "#chi_nearby_venues = pd.json_normalize(chi_venues) #flatten JSON\n",
    "\n",
    "chi_venues_list = []\n",
    "chi_venues_list.append([\n",
    "    (\n",
    "    v['venue']['name'], \n",
    "    v['venue']['categories'][0]['name'],\n",
    "    v['venue']['location']['lat'], \n",
    "    v['venue']['location']['lng'] \n",
    "    ) for v in chi_venues])\n",
    "\n",
    "chi_df = pd.DataFrame([item for chi_venue_list in chi_venues_list for item in chi_venue_list])\n",
    "chi_df.columns = ['Name', 'Category Type', 'Latitude', 'Longitude']\n",
    "chi_df\n"
   ]
  },
  {
   "cell_type": "code",
   "execution_count": null,
   "metadata": {},
   "outputs": [],
   "source": [
    "print(chi_df.shape)"
   ]
  },
  {
   "cell_type": "code",
   "execution_count": null,
   "metadata": {},
   "outputs": [],
   "source": [
    "chi_df.groupby('Category Type').count()"
   ]
  },
  {
   "cell_type": "markdown",
   "metadata": {},
   "source": [
    "### Categories for Venues nearby Georgia Tech"
   ]
  },
  {
   "cell_type": "code",
   "execution_count": null,
   "metadata": {},
   "outputs": [],
   "source": [
    "atl_venues = atl_results['response']['groups'][0]['items']\n",
    "\n",
    "atl_venues_list = []\n",
    "atl_venues_list.append([\n",
    "    (\n",
    "    v['venue']['name'], \n",
    "    v['venue']['categories'][0]['name'],\n",
    "    v['venue']['location']['lat'], \n",
    "    v['venue']['location']['lng'] \n",
    "    ) for v in atl_venues])\n",
    "\n",
    "atl_df = pd.DataFrame([item for atl_venue_list in atl_venues_list for item in atl_venue_list])\n",
    "atl_df.columns = ['Name', 'Category Type', 'Latitude', 'Longitude']\n",
    "atl_df"
   ]
  },
  {
   "cell_type": "code",
   "execution_count": null,
   "metadata": {},
   "outputs": [],
   "source": [
    "print(atl_df.shape)"
   ]
  },
  {
   "cell_type": "code",
   "execution_count": null,
   "metadata": {},
   "outputs": [],
   "source": [
    "atl_df.groupby('Category Type').count()"
   ]
  },
  {
   "cell_type": "markdown",
   "metadata": {},
   "source": [
    "## Data Exploration (Results)"
   ]
  },
  {
   "cell_type": "markdown",
   "metadata": {},
   "source": [
    "The University of Chicago had only two repeated category types which were parks and coffee shops. \n",
    "\n",
    "There is a nearby bus station at the University of Chicago, so a user does not need a car or uber as much if there is a bus route and a gym, but most universities already have a recreation center that someone could use. If a break is needed a person has the choice of more than one park to walk or go running at. If they do not want to eat coffee shop food and want something more hearty there is a BBQ joint nearby.\n",
    "\n",
    "At Georgia Institute of Technology (Georgia Tech), they have many different kind of restuarants nearby that are just not inside the college. One of the greatest perks is a music venue so people can probably get to hear local bands and if they do not want to stay at a dorm can have a night at the nearby hotel at the Hampton Inn and not too far from the hotel is a bank. \n",
    "\n",
    "There could be shopping center in the area."
   ]
  },
  {
   "cell_type": "markdown",
   "metadata": {},
   "source": [
    "## Data Analysis"
   ]
  },
  {
   "cell_type": "markdown",
   "metadata": {},
   "source": [
    "### Maps with Markers"
   ]
  },
  {
   "cell_type": "markdown",
   "metadata": {},
   "source": [
    "After looking at the venues for each university, maps were created with markers for each of the venues around each of the universities. We remove the 'Name' and 'Category Type' columns since we only need the coordinates for k-Means cluster labels. The maps will not be ordinary maps with markers, but will have clusters using k-Means with a initial k/clusters of 3. "
   ]
  },
  {
   "cell_type": "markdown",
   "metadata": {},
   "source": [
    "After creating the dataframes with the clusters we can see the clusters were color-coded and of course grouped by distances. The elbow method was not neccessary since the data points are very few. The perfect zoom size at 16 let us see some data points that were like outliers, but as you know they don't exist in k-Means. For instance, based on Google maps Leon's Barbecue takes 19 minutes by car and up to two hours walking distance. This venue is about 6.6 miles away from the University of Chicago. The venue with the farthest distance from Georgia Institute of Technology (Georgia Tech) would be Cocoa Cola Mainstreet at AOC although GT Stinger Shop was close and has it's own cluster group. The location for Coca Cola @ AOC was not easy to locate by name in Google Maps and the address was retrieved for the restaurant through Foursquare. Again, Georgia Tech wins with the farthest distance being less than 1.7 miles with only a 35 minute walk."
   ]
  },
  {
   "cell_type": "code",
   "execution_count": null,
   "metadata": {},
   "outputs": [],
   "source": [
    "from sklearn.cluster import KMeans\n",
    "\n",
    "# set number of clusters\n",
    "kclusters = 3\n",
    "\n",
    "chi_df_clustering = chi_df.drop(['Name','Category Type'], 1)\n",
    "\n",
    "# run k-means clustering\n",
    "kmeans = KMeans(n_clusters=kclusters, random_state=0).fit(chi_df_clustering)\n",
    "\n",
    "# check cluster labels generated for each row in the dataframe\n",
    "kmeans.labels_[0:13]"
   ]
  },
  {
   "cell_type": "markdown",
   "metadata": {},
   "source": [
    "We then need to create a new dataframe with the cluster."
   ]
  },
  {
   "cell_type": "code",
   "execution_count": null,
   "metadata": {},
   "outputs": [],
   "source": [
    "chi_df_merged = chi_df_clustering\n",
    "chi_df_merged.insert(0, 'Cluster Labels', kmeans.labels_)\n",
    "name_column = chi_df['Name']\n",
    "chi_df_with_clusters = pd.concat([chi_df_merged,name_column], axis = 1)\n",
    "chi_df_with_clusters"
   ]
  },
  {
   "cell_type": "markdown",
   "metadata": {},
   "source": [
    "One of the most distance locations are two restuarants in one cluster group (green). Many woud have though the bus station may have been closer to the University of Chicago. Midway Plaisance Park is the closest data point to the college while the Huckleberry Park is one of the farthest."
   ]
  },
  {
   "cell_type": "code",
   "execution_count": null,
   "metadata": {},
   "outputs": [],
   "source": [
    "# create map\n",
    "map_clusters = folium.Map(location=[chi_latitude, chi_longitude], zoom_start=16)\n",
    "\n",
    "# set color scheme for the clusters\n",
    "x = np.arange(kclusters)\n",
    "ys = [i + x + (i*x)**2 for i in range(kclusters)]\n",
    "colors_array = cm.rainbow(np.linspace(0, 1, len(ys)))\n",
    "rainbow = [colors.rgb2hex(i) for i in colors_array]\n",
    "\n",
    "# add markers to the map\n",
    "markers_colors = []\n",
    "for lat, lon, poi, cluster in zip(chi_df_with_clusters['Latitude'], chi_df_with_clusters['Longitude'], chi_df_with_clusters['Name'], chi_df_with_clusters['Cluster Labels']):\n",
    "    label = folium.Popup(str(poi) + ' Cluster ' + str(cluster), parse_html=True)\n",
    "    folium.CircleMarker(\n",
    "        [lat, lon],\n",
    "        radius=5,\n",
    "        popup=label,\n",
    "        color=rainbow[cluster-1],\n",
    "        fill=True,\n",
    "        fill_color=rainbow[cluster-1],\n",
    "        fill_opacity=0.7).add_to(map_clusters)\n",
    "       \n",
    "map_clusters"
   ]
  },
  {
   "cell_type": "code",
   "execution_count": null,
   "metadata": {},
   "outputs": [],
   "source": [
    "# set number of clusters\n",
    "kclusters = 3\n",
    "\n",
    "atl_df_clustering = atl_df.drop(['Name','Category Type'], 1)\n",
    "\n",
    "# run k-means clustering\n",
    "kmeans = KMeans(n_clusters=kclusters, random_state=0).fit(atl_df_clustering)\n",
    "\n",
    "# check cluster labels generated for each row in the dataframe\n",
    "kmeans.labels_[0:17]"
   ]
  },
  {
   "cell_type": "markdown",
   "metadata": {},
   "source": [
    "We then need to create a new dataframe with the clusters."
   ]
  },
  {
   "cell_type": "code",
   "execution_count": null,
   "metadata": {},
   "outputs": [],
   "source": [
    "atl_df_merged = atl_df_clustering\n",
    "#atl_df_merged.insert(0, 'Cluster Labels', kmeans.labels_)\n",
    "name_column = atl_df['Name']\n",
    "atl_df_with_clusters = pd.concat([atl_df_merged,name_column], axis = 1)\n",
    "atl_df_with_clusters"
   ]
  },
  {
   "cell_type": "markdown",
   "metadata": {},
   "source": [
    "As you can see with the clusters, the prediction was correct that near Georgia Institute of Technology there is shopping enter based on the venues. There was a color coordinated data points and one outlier was present based on the map which is location GT Stringer Shop in its own cluster group as one data point."
   ]
  },
  {
   "cell_type": "code",
   "execution_count": null,
   "metadata": {},
   "outputs": [],
   "source": [
    "# create map\n",
    "map_clusters = folium.Map(location=[atl_latitude, atl_longitude], zoom_start=16)\n",
    "\n",
    "# set color scheme for the clusters\n",
    "x = np.arange(kclusters)\n",
    "ys = [i + x + (i*x)**2 for i in range(kclusters)]\n",
    "colors_array = cm.rainbow(np.linspace(0, 1, len(ys)))\n",
    "rainbow = [colors.rgb2hex(i) for i in colors_array]\n",
    "\n",
    "# add markers to the map\n",
    "markers_colors = []\n",
    "for lat, lon, poi, cluster in zip(atl_df_with_clusters['Latitude'], atl_df_with_clusters['Longitude'], atl_df_with_clusters['Name'], atl_df_with_clusters['Cluster Labels']):\n",
    "    label = folium.Popup(str(poi) + ' Cluster ' + str(cluster), parse_html=True)\n",
    "    folium.CircleMarker(\n",
    "        [lat, lon],\n",
    "        radius=5,\n",
    "        popup=label,\n",
    "        color=rainbow[cluster-1],\n",
    "        fill=True,\n",
    "        fill_color=rainbow[cluster-1],\n",
    "        fill_opacity=0.7).add_to(map_clusters)\n",
    "       \n",
    "map_clusters"
   ]
  },
  {
   "cell_type": "markdown",
   "metadata": {},
   "source": [
    "## Conclusion"
   ]
  },
  {
   "cell_type": "markdown",
   "metadata": {},
   "source": [
    "After viewing both universities and the only option was to choose one it would due to mobility it would definitely be Georgia Institute of Technology (Georgia Tech) since there is a shopping center that is walking distance from the institution. As a foodie, I would have preferred Chicago, but as you can see two of the nice restuarants are quite far. They do have the Divvy Station and bus route nearby for easy transportation if you do not want to commute by foot.\n",
    "\n",
    "Many people have different threshold of what is too far to travel without having a bike, vehicle or public transportation. Overall the venues surrounding both institutions (University of Chicago and Georgia Institute of Technology (Georgia Tech)) are good for pedestrians who need commutable distances to get around.  "
   ]
  }
 ],
 "metadata": {
  "kernelspec": {
   "display_name": "Python",
   "language": "python",
   "name": "conda-env-python-py"
  },
  "language_info": {
   "codemirror_mode": {
    "name": "ipython",
    "version": 3
   },
   "file_extension": ".py",
   "mimetype": "text/x-python",
   "name": "python",
   "nbconvert_exporter": "python",
   "pygments_lexer": "ipython3",
   "version": "3.6.11"
  }
 },
 "nbformat": 4,
 "nbformat_minor": 4
}
